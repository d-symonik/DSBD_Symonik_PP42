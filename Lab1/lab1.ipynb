{
 "cells": [
  {
   "cell_type": "code",
   "execution_count": 1,
   "id": "initial_id",
   "metadata": {
    "ExecuteTime": {
     "end_time": "2023-12-06T18:38:48.933569200Z",
     "start_time": "2023-12-06T18:38:48.926856500Z"
    }
   },
   "outputs": [],
   "source": [
    "import numpy as np\n",
    "import pandas as pd\n",
    "import glob\n",
    "import os\n",
    "import matplotlib.pyplot as plt\n",
    "import seaborn as sns"
   ]
  },
  {
   "cell_type": "code",
   "execution_count": null,
   "id": "c7ad2a4cbab95739",
   "metadata": {
    "is_executing": true,
    "ExecuteTime": {
     "start_time": "2023-12-06T18:38:48.937568500Z"
    }
   },
   "outputs": [],
   "source": [
    "joined_files_paths = os.path.join('D:\\pythonProject1\\dds_ch2_nyt', \"nyt*.csv\")\n",
    "joined_files_paths_list = glob.glob(joined_files_paths)\n",
    "user_data = pd.concat(map(pd.read_csv,joined_files_paths_list),ignore_index=True)"
   ]
  },
  {
   "cell_type": "markdown",
   "id": "a31ff82bf59872d6",
   "metadata": {},
   "source": [
    "Підгрузимо дані з гіта, зчитаємо та об'єднаємо в один фрейм. Виведемо"
   ]
  },
  {
   "cell_type": "code",
   "execution_count": null,
   "id": "eb864df506abee83",
   "metadata": {
    "is_executing": true
   },
   "outputs": [],
   "source": [
    "\n",
    "user_data\n"
   ]
  },
  {
   "cell_type": "markdown",
   "id": "fb2eea95ab914b4a",
   "metadata": {},
   "source": [
    "Розділимо користувачів на вікові підгрупи "
   ]
  },
  {
   "cell_type": "code",
   "execution_count": null,
   "id": "f130994bf289444",
   "metadata": {
    "is_executing": true
   },
   "outputs": [],
   "source": [
    "bins = [user_data['Age'].min(), 18, 25, 35, 45, 55, 65,user_data['Age'].max()]\n",
    "labels = [\"<18\", \"18-24\", \"25-34\", \"35-44\", \"45-54\", \"55-64\", \"65+\"]\n"
   ]
  },
  {
   "cell_type": "code",
   "execution_count": null,
   "id": "837026b01d7469da",
   "metadata": {
    "is_executing": true
   },
   "outputs": [],
   "source": [
    "user_data['age_group'] = pd.cut(user_data['Age'], bins=bins, labels=labels)\n",
    "user_data"
   ]
  },
  {
   "cell_type": "markdown",
   "id": "11e28f638b12f742",
   "metadata": {},
   "source": [
    "Відфільтруємо дані від невизначених груп"
   ]
  },
  {
   "cell_type": "code",
   "execution_count": null,
   "id": "bbebe91aa72c8cda",
   "metadata": {
    "is_executing": true
   },
   "outputs": [],
   "source": [
    "filtered_data = user_data.dropna(subset=['age_group'])\n",
    "filtered_data"
   ]
  },
  {
   "cell_type": "markdown",
   "id": "9e5ebd232f70f603",
   "metadata": {},
   "source": [
    "Додамо ще одну колонку зі значенням CTR (відношення clicks до impressions)"
   ]
  },
  {
   "cell_type": "code",
   "execution_count": null,
   "id": "223d8e8bd1a0cac4",
   "metadata": {
    "is_executing": true
   },
   "outputs": [],
   "source": [
    "filtered_data['CTR'] = filtered_data['Clicks'] / filtered_data['Impressions']"
   ]
  },
  {
   "cell_type": "markdown",
   "id": "2bbe3785bb8fec87",
   "metadata": {},
   "source": [
    "Обчислимо  к-сть показів та середнє значення показника CTR при к-сті показів для кожної вікової групи"
   ]
  },
  {
   "cell_type": "code",
   "execution_count": null,
   "id": "c2de9ad4b3ed176d",
   "metadata": {
    "is_executing": true
   },
   "outputs": [],
   "source": [
    "age_group_data = filtered_data.groupby('age_group').agg({'Impressions': 'sum', 'CTR': 'mean'}).reset_index();\n",
    "age_group_data"
   ]
  },
  {
   "cell_type": "code",
   "execution_count": null,
   "id": "1b82c9d24ad4494c",
   "metadata": {
    "is_executing": true
   },
   "outputs": [],
   "source": [
    "plt.figure(figsize=(12, 6))\n",
    "sns.barplot(x='age_group', y='CTR', data=age_group_data)\n",
    "\n",
    "plt.xlabel('Age Group')\n",
    "plt.ylabel('CTR')\n",
    "plt.title('Коефіцієнт кліків (CTR) за віковими групами')\n",
    "plt.xticks(rotation=45)\n",
    "\n",
    "plt.show()"
   ]
  },
  {
   "cell_type": "markdown",
   "id": "35b15b28f7cc26d0",
   "metadata": {},
   "source": [
    "З даного графіка можем побачити, що найбільший показник кліків щодо показів належить групі 65+, далі йде група <18 та 55-64. Це свідчить про те, що оголошення працюють не надто ефективно для людей віком 18-54 (показник у них майже однаковий)."
   ]
  },
  {
   "cell_type": "code",
   "execution_count": null,
   "id": "3107099418cf7962",
   "metadata": {
    "is_executing": true
   },
   "outputs": [],
   "source": [
    "plt.figure(figsize=(12, 6))\n",
    "sns.barplot(x='age_group', y='Impressions', data=age_group_data)\n",
    "\n",
    "plt.xlabel('Age Group')\n",
    "plt.ylabel('Impressions')\n",
    "plt.title('Покази за віковими групами')\n",
    "plt.xticks(rotation=45)\n",
    "\n",
    "plt.show()"
   ]
  },
  {
   "cell_type": "markdown",
   "id": "f7131f43e5fc2dfb",
   "metadata": {},
   "source": [
    "Бачимо, що топ-3 к-сть показів у вікової групи 25-54. У зв'язку з низьким показником CTR для цих груп, можна зробити висновок, що оголошення для них є нецікавими і не спонукають для кліку. Потрібно адаптовуватись і під цю групу юзерів, аби покрити усі вікові категорії. Проте водночас можна свідчити про результативність оголешень для юнаків та літніх людей, оскільки при меншій к-сті показів показник CTR "
   ]
  },
  {
   "cell_type": "code",
   "execution_count": null,
   "id": "fafc08f8b0ed0445",
   "metadata": {
    "is_executing": true
   },
   "outputs": [],
   "source": [
    "plt.figure(figsize=(12, 6))\n",
    "plt.scatter(age_group_data['Impressions'], age_group_data['CTR'], c='skyblue', marker='o', edgecolors='lightcoral')\n",
    "plt.xlabel('Total Impressions')\n",
    "plt.ylabel('Mean CTR')\n",
    "plt.title('Середній CTR за загальною кількістю показів для кожної вікової групи')\n",
    "\n",
    "# Annotate the points with age group labels\n",
    "for i, age_group in enumerate(age_group_data['age_group']):\n",
    "    plt.annotate(age_group, (age_group_data['Impressions'][i], age_group_data['CTR'][i]), textcoords=\"offset points\", xytext=(0, 10), ha='center')\n",
    "\n",
    "\n",
    "plt.locator_params(axis='x', nbins=50)\n",
    "plt.xticks(rotation=45)\n",
    "\n",
    "# Show the plot\n",
    "plt.grid(True)\n",
    "plt.show()"
   ]
  },
  {
   "cell_type": "code",
   "execution_count": null,
   "id": "299b1a40cd370bb3",
   "metadata": {
    "is_executing": true
   },
   "outputs": [],
   "source": [
    "men_over_18 = filtered_data[(filtered_data['Gender']==1) & (filtered_data['Age']>18)]\n",
    "women_over_18 = filtered_data[(filtered_data['Gender'] == 0) & (filtered_data['Age'] > 18)]\n"
   ]
  },
  {
   "cell_type": "markdown",
   "id": "38ce69f491bbf021",
   "metadata": {},
   "source": [
    "Порівняємо покази для чоловіків і жінок віком старше 18 років"
   ]
  },
  {
   "cell_type": "code",
   "execution_count": null,
   "id": "f0e9936f01875094",
   "metadata": {
    "is_executing": true
   },
   "outputs": [],
   "source": [
    "plt.figure(figsize=(8, 6))\n",
    "sns.barplot(x=['Male', 'Female'], y=[men_over_18['Impressions'].sum(),women_over_18['Impressions'].sum()])\n",
    "plt.xlabel('Gender')\n",
    "plt.ylabel('Impression')\n",
    "plt.title('Порівняння к-сті показів між чоловіками та жінками старше 18 років')\n",
    "plt.show()"
   ]
  },
  {
   "cell_type": "markdown",
   "id": "44d2eaec8f6f777a",
   "metadata": {},
   "source": [
    "Порівняємо к-сть кліків для чоловіків і жінок віком старше 18 років"
   ]
  },
  {
   "cell_type": "code",
   "execution_count": null,
   "id": "49da287d71c869d",
   "metadata": {
    "is_executing": true
   },
   "outputs": [],
   "source": [
    "plt.figure(figsize=(8, 6))\n",
    "sns.barplot(x=['Male', 'Female'], y=[men_over_18['Clicks'].sum(),women_over_18['Clicks'].sum()])\n",
    "plt.xlabel('Gender')\n",
    "plt.ylabel('Clicks')\n",
    "plt.title('Порівняння к-сті переходів між чоловіками та жінками старше 18 років')\n",
    "plt.show()"
   ]
  },
  {
   "cell_type": "markdown",
   "id": "80f9cefbc5500737",
   "metadata": {},
   "source": [
    "Як бачимо жінки старше 18 років клікаю частіше ніж чоловіки, хоч жінки мають меншу к-сть показів. Щоб підтвердити дану інформацію, знайдемо CTR для кожної категорії і відобразимо на діаграмі "
   ]
  },
  {
   "cell_type": "code",
   "execution_count": null,
   "id": "a36ef3c773e3c15d",
   "metadata": {
    "is_executing": true
   },
   "outputs": [],
   "source": [
    "men_over_18['CTR'] = men_over_18['Clicks'] / men_over_18['Impressions']\n",
    "\n",
    "women_over_18['CTR'] = women_over_18['Clicks'] / women_over_18['Impressions']\n",
    "\n",
    "plt.figure(figsize=(8, 6))\n",
    "sns.barplot(x=['Male', 'Female'], y=[men_over_18['CTR'].mean(),women_over_18['CTR'].mean()])\n",
    "\n",
    "plt.xlabel('Gender')\n",
    "plt.ylabel('Click-Through Rate (CTR)')\n",
    "\n",
    "plt.title('Порівняння CTR між чоловіками та жінками старше 18 років')\n",
    "\n",
    "plt.show()"
   ]
  },
  {
   "cell_type": "code",
   "execution_count": null,
   "id": "e5ec7e72e6ea4fcd",
   "metadata": {
    "is_executing": true
   },
   "outputs": [],
   "source": [
    "print(({\"men_over_18_CTR\": men_over_18['CTR'].mean()}))\n",
    "print(({\"women_over_18_CTR\": women_over_18['CTR'].mean()}))"
   ]
  },
  {
   "cell_type": "markdown",
   "id": "21d969ee831352f3",
   "metadata": {},
   "source": [
    "Проаналізуємо к-сть переходів авторизованих та неавторизованих юзерів."
   ]
  },
  {
   "cell_type": "code",
   "execution_count": null,
   "id": "ca66d632fb6afc94",
   "metadata": {
    "is_executing": true
   },
   "outputs": [],
   "source": [
    "auth = user_data[user_data['Signed_In'] == 1]\n",
    "non_auth = user_data[user_data['Signed_In'] == 0]\n",
    "\n",
    "print({\"auth\":auth['Clicks'].sum(),\"non_auth\":non_auth['Clicks'].sum()})\n",
    "\n",
    "sns.barplot(x=['Auth', 'Non-auth'], y=[auth['Clicks'].sum(), non_auth['Clicks'].sum()])\n",
    "plt.xlabel('User Status')\n",
    "plt.ylabel('Clicks')\n",
    "plt.title('Порівняння к-сті кліків між авторизованими та неавторизованими користувачами')\n",
    "plt.show()"
   ]
  },
  {
   "cell_type": "markdown",
   "id": "ecd138231318c810",
   "metadata": {},
   "source": [
    "Проаналізуємо к-сть показів авторизованих та неавторизованих юзерів."
   ]
  },
  {
   "cell_type": "code",
   "execution_count": null,
   "id": "f795925ccbda0326",
   "metadata": {
    "is_executing": true
   },
   "outputs": [],
   "source": [
    "print({\"auth\":auth['Impressions'].sum(),\"non_auth\":non_auth['Impressions'].sum()})\n",
    "\n",
    "sns.barplot(x=['Auth', 'Non-auth'], y=[auth['Impressions'].sum(), non_auth['Impressions'].sum()])\n",
    "plt.xlabel('User Status')\n",
    "plt.ylabel('Impressions')\n",
    "plt.title('Порівняння к-сті показів між авторизованими та неавторизованими користувачами')\n",
    "plt.show()"
   ]
  },
  {
   "cell_type": "code",
   "execution_count": null,
   "id": "f0df7cf5f4a58fd",
   "metadata": {
    "is_executing": true
   },
   "outputs": [],
   "source": []
  },
  {
   "cell_type": "markdown",
   "id": "91db8b5d52001282",
   "metadata": {},
   "source": [
    "З вищенаведених візуалізацій можемо побачити, що к-сть показів для неавторизованих користувачів значно менша ніж для авторизованих, проте останні менше клікають на оголошення, тобто можна зробити висновок, що показник CTR для неавторизованих буде вищим, провізуалізуємо дане твердження."
   ]
  },
  {
   "cell_type": "code",
   "execution_count": null,
   "id": "b8656cfd40b5778",
   "metadata": {
    "is_executing": true
   },
   "outputs": [],
   "source": [
    "auth['CTR'] = auth['Clicks'] / auth['Impressions']\n",
    "non_auth['CTR'] = non_auth['Clicks'] / non_auth['Impressions']\n",
    "\n",
    "print({\"auth_CTR\":round(auth['CTR'].mean(),5),\"non_auth_CTR\":round(non_auth['CTR'].mean(),5)})\n",
    "\n",
    "plt.figure(figsize=(8, 6))\n",
    "sns.barplot(x=['Auth', 'Non-Auth'], y=[auth['CTR'].mean(),non_auth['CTR'].mean()])\n",
    "\n",
    "plt.xlabel('User Status')\n",
    "plt.ylabel('Click-Through Rate (CTR)')\n",
    "\n",
    "plt.title('Порівняння CTR між авторизованими та неавторизованими')\n",
    "\n",
    "plt.show()"
   ]
  },
  {
   "cell_type": "markdown",
   "id": "447686de19365638",
   "metadata": {},
   "source": [
    "З візуаліції можем побачити, що показник CTR для неавторизованих більше удвічі, що є дуже великою перевагою над авторизованими"
   ]
  },
  {
   "cell_type": "markdown",
   "id": "28aa544bbb32fd64",
   "metadata": {},
   "source": [
    "Знайдемо квантилі, середнє значення, медіану, дисперсію та максимальне значення показів, кліків та CTR за віковими групами, за гендером та за статусом авторизації користувача"
   ]
  },
  {
   "cell_type": "markdown",
   "id": "6e600547b72404da",
   "metadata": {},
   "source": [
    "Для вікових груп:"
   ]
  },
  {
   "cell_type": "code",
   "execution_count": null,
   "id": "ee2e8dbc7d6dfb26",
   "metadata": {
    "is_executing": true
   },
   "outputs": [],
   "source": [
    "age_group_quantiles = filtered_data.groupby('age_group').agg(Impressions_0_25=('Impressions', lambda x: x.quantile(0.25)),\n",
    "    Impressions_0_5=('Impressions', lambda x: x.quantile(0.5)),\n",
    "    Impressions_0_75=('Impressions', lambda x: x.quantile(0.75)),\n",
    "    CTR_0_25=('CTR', lambda x: x.quantile(0.25)),\n",
    "    CTR_0_5=('CTR', lambda x: x.quantile(0.5)),\n",
    "    CTR_0_75=('CTR', lambda x: x.quantile(0.75)),\n",
    "    Clicks_0_25=('Clicks', lambda x: x.quantile(0.25)),\n",
    "    Clicks_0_5=('Clicks', lambda x: x.quantile(0.5)),\n",
    "    Clicks_0_75=('Clicks', lambda x: x.quantile(0.75)))\n",
    "age_group_mean = filtered_data.groupby('age_group').agg(Mean_Impressions=('Impressions','mean'),Mean_CTR=('CTR','mean'),Mean_Clicks=('Clicks','mean'))\n",
    "age_group_max = filtered_data.groupby('age_group').agg(Max_Impressions=('Impressions','max'),Max_CTR=('CTR','max'),Max_Clicks=('Clicks','max'))\n",
    "age_group_median = filtered_data.groupby('age_group').agg(Median_Impressions=('Impressions','median'),Median_CTR=('CTR','median'),Median_Clicks=('Clicks','median'))\n",
    "age_group_variance = filtered_data.groupby('age_group').agg(Variance_Impressions=('Impressions','var'),Variance_CTR=('CTR','var'),Variance_Clicks=('Clicks','var'))\n",
    "age_group_df = pd.concat([age_group_quantiles,age_group_mean,age_group_variance,age_group_median,age_group_max],axis=1)\n",
    "age_group_mean\n"
   ]
  },
  {
   "cell_type": "code",
   "execution_count": null,
   "id": "a3589f57a894091",
   "metadata": {
    "is_executing": true
   },
   "outputs": [],
   "source": [
    "age_group_df"
   ]
  },
  {
   "cell_type": "markdown",
   "id": "869482d12b3d5ab8",
   "metadata": {},
   "source": [
    "Звідси можемо побачити, що квантили, медіани співпадають у всіх вікових групах, максмальні значення майже однакові, дисперсія є невеликою, тому що для даних середніх значень дана дисперсія могла бути кардильно іншою, а вона приблизно така сама"
   ]
  },
  {
   "cell_type": "code",
   "execution_count": null,
   "id": "af2c388c8818817c",
   "metadata": {
    "is_executing": true
   },
   "outputs": [],
   "source": [
    "user_data['CTR']=user_data['Clicks']/user_data['Impressions'];\n",
    "\n",
    "gender_quantiles = user_data.groupby('Gender').agg(Impressions_0_25=('Impressions', lambda x: x.quantile(0.25)),\n",
    "    Impressions_0_5=('Impressions', lambda x: x.quantile(0.5)),\n",
    "    Impressions_0_75=('Impressions', lambda x: x.quantile(0.75)),\n",
    "    CTR_0_25=('CTR', lambda x: x.quantile(0.25)),\n",
    "    CTR_0_5=('CTR', lambda x: x.quantile(0.5)),\n",
    "    CTR_0_75=('CTR', lambda x: x.quantile(0.75)),\n",
    "    Clicks_0_25=('Clicks', lambda x: x.quantile(0.25)),\n",
    "    Clicks_0_5=('Clicks', lambda x: x.quantile(0.5)),\n",
    "    Clicks_0_75=('Clicks', lambda x: x.quantile(0.75)))\n",
    "\n",
    "gender_mean = user_data.groupby('Gender').agg(Mean_Impressions=('Impressions','mean'),Mean_CTR=('CTR','mean'),Mean_Clicks=('Clicks','mean'))\n",
    "gender_max = user_data.groupby('Gender').agg(Max_Impressions=('Impressions','max'),Max_CTR=('CTR','max'),Max_Clicks=('Clicks','max'))\n",
    "gender_median = user_data.groupby('Gender').agg(Median_Impressions=('Impressions','median'),Median_CTR=('CTR','median'),Median_Clicks=('Clicks','median'))\n",
    "gender_variance = user_data.groupby('Gender').agg(Variance_Impressions=('Impressions','var'),Variance_CTR=('CTR','var'),Variance_Clicks=('Clicks','var'))\n",
    "\n",
    "gender_df = pd.concat([gender_quantiles,gender_mean,gender_variance,gender_max,gender_median],axis=1)\n",
    "gender_mean"
   ]
  },
  {
   "cell_type": "code",
   "execution_count": null,
   "id": "9bdc4c35ad4ed20c",
   "metadata": {
    "is_executing": true
   },
   "outputs": [],
   "source": [
    "gender_df"
   ]
  },
  {
   "cell_type": "markdown",
   "id": "a7face8fbe012741",
   "metadata": {},
   "source": [
    "Подібною до ситуації з віковими групами є ситуація з гендерами (квантили, медіани співпадають для всіх гендерів, максмальні значення майже однакові, дисперсія є невеликою,)"
   ]
  },
  {
   "cell_type": "code",
   "execution_count": null,
   "id": "2a26123b822ba6a1",
   "metadata": {
    "is_executing": true
   },
   "outputs": [],
   "source": [
    "auth_quantiles = user_data.groupby('Signed_In').agg(Impressions_0_25=('Impressions', lambda x: x.quantile(0.25)),\n",
    "    Impressions_0_5=('Impressions', lambda x: x.quantile(0.5)),\n",
    "    Impressions_0_75=('Impressions', lambda x: x.quantile(0.75)),\n",
    "    CTR_0_25=('CTR', lambda x: x.quantile(0.25)),\n",
    "    CTR_0_5=('CTR', lambda x: x.quantile(0.5)),\n",
    "    CTR_0_75=('CTR', lambda x: x.quantile(0.75)),\n",
    "    Clicks_0_25=('Clicks', lambda x: x.quantile(0.25)),\n",
    "    Clicks_0_5=('Clicks', lambda x: x.quantile(0.5)),\n",
    "    Clicks_0_75=('Clicks', lambda x: x.quantile(0.75)))\n",
    "auth_mean = user_data.groupby('Signed_In').agg(Mean_Impressions=('Impressions','mean'),Mean_CTR=('CTR','mean'),Mean_Clicks=('Clicks','mean'))\n",
    "auth_max = user_data.groupby('Signed_In').agg(Max_Impressions=('Impressions','max'),Max_CTR=('CTR','max'),Max_Clicks=('Clicks','max'))\n",
    "auth_median = user_data.groupby('Signed_In').agg(Median_Impressions=('Impressions','median'),Median_CTR=('CTR','median'),Median_Clicks=('Clicks','median'))\n",
    "auth_variance = user_data.groupby('Signed_In').agg(Variance_Impressions=('Impressions','var'),Variance_CTR=('CTR','var'),Variance_Clicks=('Clicks','var'))\n",
    "\n",
    "auth_df = pd.concat([auth_quantiles,auth_mean,auth_variance,auth_median,auth_max],axis=1)\n",
    "auth_mean"
   ]
  },
  {
   "cell_type": "code",
   "execution_count": null,
   "id": "60a5810fa494addb",
   "metadata": {
    "is_executing": true
   },
   "outputs": [],
   "source": [
    "auth_df\n"
   ]
  },
  {
   "cell_type": "markdown",
   "id": "eb05429354a85f3f",
   "metadata": {},
   "source": [
    "Статус авторизації користувача: квантили, медіани співпадають для всіх гендерів, максмальні значення майже однакові, дисперсія є невеликою,"
   ]
  },
  {
   "cell_type": "markdown",
   "id": "e36c78b59de8679",
   "metadata": {},
   "source": [
    "Висновок:\n",
    "У ході проведення дослідження було виявлено, що найбільш зацікавленою оголошеннями аудиторією є вікова група <18 та 54+. При меншій к-сті показів ніж у групи 18-54, було досліджено, що люди у віці менше 18 років та більше 54 переходять за оголошеннями \n",
    "частіше. Якщо дивитися на дану ситуацію з точки зору гендерів, то можна зробити висновок, що хоч жінки мають меншу к-сть показів, але вони переходять за оголошеннями частіше ніж чоловіки. Ситуація з авторизованими користувачами та неавторизованими така: неавторизована авдиторія більш активна, а ніж користувачі, що авторизувались - при меншій кількості показів, вони мають більшу кількість переходів та відповідно більший майже удвічі, показник CTR. Також згідно нашого дослідження, ситуація з метриками склалась ідентична у для всіх категорій дослідження (вікові групи, гендери, користувачі за статусом авторизації). У ході проведення дослідження було сформовано єдиний дата фрейм для кожної категорії, де можна отримати інформацію для кожної з метрик."
   ]
  },
  {
   "cell_type": "code",
   "execution_count": null,
   "id": "bc1cfeb1657b79a5",
   "metadata": {
    "is_executing": true
   },
   "outputs": [],
   "source": []
  },
  {
   "cell_type": "code",
   "execution_count": null,
   "id": "5fc58c6a464f1ae",
   "metadata": {
    "is_executing": true
   },
   "outputs": [],
   "source": []
  }
 ],
 "metadata": {
  "kernelspec": {
   "display_name": "Python 3 (ipykernel)",
   "language": "python",
   "name": "python3"
  },
  "language_info": {
   "codemirror_mode": {
    "name": "ipython",
    "version": 3
   },
   "file_extension": ".py",
   "mimetype": "text/x-python",
   "name": "python",
   "nbconvert_exporter": "python",
   "pygments_lexer": "ipython3",
   "version": "3.11.5"
  }
 },
 "nbformat": 4,
 "nbformat_minor": 5
}
